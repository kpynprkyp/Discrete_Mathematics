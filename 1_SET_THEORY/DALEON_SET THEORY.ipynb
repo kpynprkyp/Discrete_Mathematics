{
 "cells": [
  {
   "cell_type": "code",
   "execution_count": 2,
   "id": "ebfa747f",
   "metadata": {
    "tags": []
   },
   "outputs": [],
   "source": [
    "from matplotlib_venn import venn2, venn2_circles, venn2_unweighted\n",
    "from matplotlib_venn import venn3, venn3_circles\n",
    "from matplotlib import pyplot as plt\n",
    "import pandas as pd\n",
    "%matplotlib inline"
   ]
  },
  {
   "cell_type": "markdown",
   "id": "eab93518-bbbb-4e07-8732-bf2a809fdef4",
   "metadata": {},
   "source": [
    "# 1. PROVING IDENTITTIES\n",
    "\n",
    "\n",
    "Given: A and B are sets, $\\exists$ x such that (x $\\in$ A $\\wedge$ x $\\in$ B)\n",
    "\n",
    "Show that:\n",
    "\n",
    "# $\\bullet$ $A\\setminus B = A \\cap B^c$\n",
    "\n",
    "$Proof:$\n",
    "\n",
    "\n",
    "According to the complement's definition, we can express $B^c$ as the complement of $B$. When we multiply both sides with $A$, we obtain  $A \\cap B^c$ = $A \\cap ( \\mathcal {U} -  B )$. using the distributive property. Next, by applying the Domination law, we find that $A$ $\\cap$ $\\mathcal {U} = A$, and consequently, $A \\cap B^c = A - ( A \\cap B )$. Using the definition, we can conclude that $A\\setminus B= A \\cap B^c$. \n",
    "\n",
    "# $\\bullet$ $B = ( B \\cap A ) \\cup ( B \\cap A^c )$\n",
    "\n",
    "$\\textit{Proof:}$\n",
    "\n",
    "By applying the Distributive law, we can determine that  $(B \\cap A) \\cup (B \\cap A^C) = B \\cup (A \\cap A^C)$. By the Complement law, $A \\cap A^C = \\emptyset$, and applying the Domination law, we have $B \\cup \\emptyset = B$.\n",
    "\n",
    "\n",
    "# $\\bullet$ $B\\setminus A = B \\cap A^c$\n",
    "\n",
    "$\\textit{Proof:}$\n",
    "\n",
    "According to the complement definition, we can exprese $A^C = \\mathcal{U} - A$. When we multiply both sides by $B$, it gives us $B \\cap A^C = B \\cap (\\mathcal{U} - A)$ using the distributive law. Next, by applying the Domination law, we find that $B \\cap \\mathcal{U} = B$, and thus $B \\cap A^C = B - B \\cap A$. Using the definition, we can conclude that $B \\setminus A = B - B \\cap A$. Hence, $B \\setminus A = B \\cap A^C$.\n",
    "\n",
    "\n",
    "# $\\bullet A \\cup B = A \\cup (B \\cap A^c)$\n",
    "\n",
    "$\\textit{Proof:}$\n",
    "\n",
    "By applying the Distributive law, we find that $A \\cup (B \\cap A^C) = (A \\cup B) \\cap (A \\cup A^C)$. Since the union of a set and its complement is the universal set, applying the Domination law simplifies the expression to $(A \\cup B) \\cap \\mathcal{U} = A \\cup B$.\n",
    "\n",
    "\n",
    "\n",
    "# $\\bullet$ $(\\bigcup_{i = 1}^{\\infty} A^C_i)^C = \\bigcap_{i = 1}^{\\infty} A_i$\n",
    "\n",
    "$\\textit{Proof:}$\n",
    "\n",
    "Applying De Morgan's Law, we can distribute the complement within the parentheses to obtain $\\bigcap_{i = 1}^{\\infty}(A_i^C)^C$. Then, utilizing the Double Negation Law, we can express this as $\\bigcap_{i = 1}^{\\infty}(A_i^C)^C = \\bigcap_{i = 1}^{\\infty} A_i$.\n",
    "\n",
    "\n",
    "# $\\bullet$ $|A \\cup B| = |A| + |B| - |A \\cap B|$\n",
    "\n",
    "$\\textit{Proof:}$\n",
    "\n",
    "$\\textbf{Case 1:}$ If $A$ and $B$ are disjoint, as defined, their intersection is an empty set, making $|A \\cap B| = 0$. Therefore, the size of their union is determined by $|A \\cup B| = |A| + |B|$.\n",
    "\n",
    "$\\textbf{Case 2:}$ If $A$ and $B$ are not disjoint, we calculate the sizes of both sets $A$ and $B$. Considering that we double-count the common elements, we need to subtract their intersection, $|A \\cap B|$. This leade in $|A \\cup B| = |A| + |B| - |A \\cap B|$.\n",
    "\n"
   ]
  },
  {
   "cell_type": "markdown",
   "id": "f445ba4f-2eb9-4e51-b333-78756779291c",
   "metadata": {},
   "source": [
    "# 2. SETS AND SUBSETS\n",
    "\n",
    "$\\bullet$ If $A = \\{2, 3, 4, 5  \\}$, and $B = \\{x \\in \\mathbb{N} |  x \\text{ is even}\\}$. Is $A \\subset B$? Is A \\subset B? Show proof.\n",
    "\n",
    "$Answer:$\n",
    "\n",
    "NO. Counterexample is that the elements 3, and 5 are not included in $B$. For a $A$ to be a proper subset of $B$, $A$ needs to be a subset of $B$ and also at least one element of $B$ is not in $A$. Since we got the first condition as false, then we have the Truth statement for $A \\subset B$ as $False \\land True = False$.\n",
    "\n",
    "Let sets, \n",
    "\n",
    "$\\textbf{A} = \\{ x | x \\in \\mathbb{Z}, 0 \\leq x \\leq 9 \\}$\n",
    "\n",
    "$\\textbf{B} = \\{2,4,6,8\\}$\n",
    "\n",
    "$\\textbf{C} = \\{ 1,3,5,7,9\\}$\n",
    "\n",
    "$\\textbf{D} = \\{ 3,4,5 \\}$\n",
    "\n",
    "Find a set $\\textbf{X}$ that satisfies the following:\n",
    "\n",
    "1. $\\textbf{X} $ and $\\textbf{B}$ are disjoint.\n",
    "\n",
    "$\\bullet$ since they are disjoint, it could be\n",
    "$\\textbf{X} = \\{1, 3, 5, 7, 9\\}$\n",
    "\n",
    "2. $\\textbf{X} \\subseteq \\textbf{D}$ but $\\textbf{X} \\nsubseteq \\textbf{B}$.\n",
    "\n",
    "$\\bullet$ since it wants to be a subset of $\\textbf{D}$\n",
    ", then we reduce the number of elements to 2, which is$\\textbf{X} = \\{3, 5\\}$\n",
    "\n",
    "3. $\\textbf{X} \\subseteq \\textbf{A}$ but $\\textbf{X} \\not\\subset \\textbf{C}$\n",
    "\n",
    "$\\bullet$ the set $\\textbf{X} = \\{2, 4 ,6, 8\\}$\n",
    "\n",
    "\n",
    "NOTE: If we aim for the set to meet all three conditions simultaneously, such a set does not exist."
   ]
  },
  {
   "cell_type": "markdown",
   "id": "2765a837-1efa-42a4-8166-dccfb4f5c5f2",
   "metadata": {},
   "source": [
    "\n",
    "\n",
    "For 1, since $\\textbf{X}$ and $\\textbf{B}$ are disjoint, it could be\n",
    "\n",
    "$\\textbf{X} = \\{1, 3, 5, 7, 9\\}$\n",
    "\n",
    "For 2, since it wants to be a subset of $\\textbf{D}$\n",
    "\n",
    "Then we reduce the number of elements to 2, which is $\\textbf{X} = \\{3, 5\\}$\n",
    "\n",
    "For 3, the set $\\textbf{X} = \\{2, 4 ,6, 8\\}$\n",
    "\n",
    "Remark: If we want the set to simultaneusly satisfy the three, then the set does not exists."
   ]
  },
  {
   "cell_type": "markdown",
   "id": "1454719c-6345-4769-8532-edb0f602fb30",
   "metadata": {
    "tags": []
   },
   "source": [
    "# 3. Set Operations\n",
    "\n",
    "\n",
    "Given:\n",
    "\n",
    "$\\textbf{U} = \\{1,2,3,4,5\\}$\n",
    "\n",
    "$\\textbf{A} = \\{1,2,3,4,5\\}$\n",
    "\n",
    "$\\textbf{B} = \\{4,5,6,7\\}$\n",
    "\n",
    "$\\textbf{C} = \\{5,6,7,8,9\\}$\n",
    "\n",
    "$\\textbf{D} = \\{1,3,5,7,9\\}$\n",
    "\n",
    "$\\textbf{E} = \\{2,4,6,8\\}$\n",
    "\n",
    "$\\textbf{F} = \\{1,5,9\\}$\n",
    "\n",
    "\n",
    "$\\bullet$ $\\textbf{C} \\oplus \\textbf{D}$\n",
    "\n",
    "$(C - D) \\cup (D - C) = \\{6, 8\\} \\cup \\{1, 3\\} = \\{1, 3, 6, 8\\}$\n",
    "\n",
    "$\\bullet$ $\\textbf{A} \\backslash \\textbf{B}$\n",
    "\n",
    "$A - B = \\{1, 2, 3\\}$\n",
    "\n",
    "$\\bullet$$\\textbf{B} \\backslash \\textbf{A}$\n",
    "\n",
    "$B - A = \\{6, 7\\}$\n",
    "\n",
    "$\\bullet$ $\\textbf{E} \\oplus \\textbf{F}$\n",
    "\n",
    "$(E - F) \\cup (D - C) = \\{2, 4, 6, 8\\} \\cup \\{1, 5, 9\\} = \\{1, 2, 4, 5, 6, 8, 9\\}$"
   ]
  },
  {
   "cell_type": "code",
   "execution_count": 24,
   "id": "243573c6-34d2-4b74-8bfd-df41b2cb1488",
   "metadata": {
    "tags": []
   },
   "outputs": [
    {
     "name": "stdout",
     "output_type": "stream",
     "text": [
      "{1, 3, 6, 8}\n",
      "{1, 2, 3}\n",
      "{6, 7}\n",
      "{1, 2, 4, 5, 6, 8, 9}\n"
     ]
    }
   ],
   "source": [
    "#Pythonic Solutions\n",
    "\n",
    "U = {1,2,3,4,5}\n",
    "A = {1,2,3,4,5}\n",
    "B = {4,5,6,7}\n",
    "C = {5,6,7,8,9}\n",
    "D = {1,3,5,7,9}\n",
    "E = {2,4,6,8}\n",
    "F = {1,5,9}\n",
    "\n",
    "print(C ^ D)\n",
    "print(A - B)\n",
    "print(B - A)\n",
    "print(E ^ F)"
   ]
  },
  {
   "cell_type": "markdown",
   "id": "dd4fd692-8d5c-48f9-946c-c224e2f18bd7",
   "metadata": {},
   "source": [
    "# 4. Finite Sets and The Counting Principles"
   ]
  },
  {
   "cell_type": "code",
   "execution_count": 25,
   "id": "a8c70b76",
   "metadata": {
    "tags": []
   },
   "outputs": [
    {
     "data": {
      "text/plain": [
       "<matplotlib_venn._common.VennDiagram at 0x20a23fd8a50>"
      ]
     },
     "execution_count": 25,
     "metadata": {},
     "output_type": "execute_result"
    },
    {
     "data": {
      "image/png": "[encoded data removed]",
      "text/plain": [
       "<Figure size 640x480 with 1 Axes>"
      ]
     },
     "metadata": {},
     "output_type": "display_data"
    }
   ],
   "source": [
    "venn3(subsets = (65, 45, 20, 42, 25, 15, 8), set_labels = ('Newsweek', 'Times', 'Fortune'))"
   ]
  },
  {
   "cell_type": "markdown",
   "id": "858f415f-3420-4c49-8ce7-d26b1a33de53",
   "metadata": {
    "tags": []
   },
   "source": [
    "2. The number of people who have read at $\\textbf{\"at least 1\"}$ magazine is the union of newsweek, fortune, and times. Which is given by,\n",
    "\n",
    "$|Newsweek \\cup Times \\cup Fortune| = |Newsweek| + |Times| + |Fortune| - |Newsweek \\cap Times| - |Newsweek \\cap Fortune| - |Times \\cap Fortune| + |Newsweek \\cap Times \\cap Fortune| $\n",
    "                    \n",
    "$100 = 65 + 45 + 42 - 25 - 20 - 15 + 8$"
   ]
  },
  {
   "cell_type": "markdown",
   "id": "a1a653da-0696-4ac5-bf37-f33d1bb64dc1",
   "metadata": {},
   "source": [
    "3. People who have ready $\\textbf{\"exactly one\"}$ magazine is given by,\n",
    "\n",
    "Fortune Readers $ = |Fortune| - |Fortune \\cap Newsweek| - |Fortune \\cap Times| + |Newsweek \\cap Times \\cap Fortune| = 42 - 25 - 15 + 8 = 10$\n",
    "\n",
    "Newsweek Readers $ = |Newsweek| - |Newsweek \\cap Fortune| - |Newsweek \\cap Times| + |Newsweek \\cap Times \\cap Fortune| = 65 - 25 - 20 + 8 = 28$\n",
    "\n",
    "Times Readers $ = |Times| - |Times \\cap Fortune| - |Times \\cap Newsweek| + |Newsweek \\cap Times \\cap Fortune| = 45 - 15 - 20 + 8 = 18$\n",
    "\n",
    "Which has a total of $= 18 + 10 + 28 = 56$"
   ]
  },
  {
   "cell_type": "code",
   "execution_count": 26,
   "id": "9ab5b23b-e65b-4a59-a2c7-450f17825983",
   "metadata": {
    "tags": []
   },
   "outputs": [
    {
     "data": {
      "text/plain": [
       "<matplotlib_venn._common.VennDiagram at 0x20a25048a50>"
      ]
     },
     "execution_count": 26,
     "metadata": {},
     "output_type": "execute_result"
    },
    {
     "data": {
      "image/png": "[encoded data removed]",
      "text/plain": [
       "<Figure size 640x480 with 1 Axes>"
      ]
     },
     "metadata": {},
     "output_type": "display_data"
    }
   ],
   "source": [
    "venn3(subsets = (15, 12, 9, 11, 5, 4, 3), set_labels = ('air-conditioning', ' radio', 'power windows'))"
   ]
  },
  {
   "cell_type": "markdown",
   "id": "c4247e9f-b63b-4c61-801f-670b0b8c6132",
   "metadata": {
    "tags": []
   },
   "source": [
    "2. Find the number of cars with W only:\n",
    "$|W| - |W \\cap A| - |W \\cap R| + |W \\cap R \\cap A| = 11 - 5 - 4 + 3 = 5$\n",
    "3. Find the number of cars with A only.\n",
    "$|A| - |W \\cap A| - |A \\cap R| + |W \\cap R \\cap A| = 15 - 5 - 9 + 3 = 4$\n",
    "4. Find the number of cars with R only:\n",
    "$|R| - |R \\cap A| - |R \\cap W| + |W \\cap R \\cap A| = 12 - 9 - 4 + 3 =2$\n",
    "5. Find the number of cars with both R and W but not A:\n",
    "$|W \\cap R| - |W \\cap R \\cap A| = 4 - 3 = 1$\n",
    "6. Find the number of cars with both A and R but not W:\n",
    "$|A \\cap R| - |W \\cap R \\cap A| = 9 - 3 = 6$\n",
    "7. Find the number of cars with only one of the options:\n",
    "$|A \\text{ only }| + |W \\text{ only }| + |R \\text{ only }| = 5 + 4 + 2 = 11$\n",
    "8. Find the number of cars with at least one option:\n",
    "$|A \\cup R \\cup W| = |A| + |R| + |W| - |A \\cap W| - |A \\cap R| - |W \\cap R| + |A \\cap W \\cap R| = 15 + 11 + 12 - 5 - 9 - 4 + 3 = 23$\n",
    "9. Find the number of cars with none of the Options:\n",
    "$|\\mathcal{U}| - |A \\cup R \\cup W| = 25 - 23 = 2$"
   ]
  }
 ],
 "metadata": {
  "kernelspec": {
   "display_name": "Python 3 (ipykernel)",
   "language": "python",
   "name": "python3"
  },
  "language_info": {
   "codemirror_mode": {
    "name": "ipython",
    "version": 3
   },
   "file_extension": ".py",
   "mimetype": "text/x-python",
   "name": "python",
   "nbconvert_exporter": "python",
   "pygments_lexer": "ipython3",
   "version": "3.11.4"
  }
 },
 "nbformat": 4,
 "nbformat_minor": 5
}
